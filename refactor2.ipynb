{
 "cells": [
  {
   "cell_type": "code",
   "execution_count": 4,
   "metadata": {},
   "outputs": [
    {
     "name": "stdout",
     "output_type": "stream",
     "text": [
      "%pylab is deprecated, use %matplotlib inline and import the required libraries.\n",
      "Populating the interactive namespace from numpy and matplotlib\n"
     ]
    }
   ],
   "source": [
    "import sys\n",
    "sys.path.append('./EXP/')\n",
    "import ClevelandMcGill as C\n",
    "import ChatGPT as X\n",
    "%pylab inline"
   ]
  },
  {
   "cell_type": "code",
   "execution_count": 8,
   "metadata": {},
   "outputs": [
    {
     "name": "stdout",
     "output_type": "stream",
     "text": [
      "The two yellow bars in the image appear to be of the same length. This is a common optical illusion where the context and surrounding shapes may make them look as if they are of different lengths, but in reality, they are the same. The orientation of the small rectangles at the end of each bar might make one seem longer than the other, but this is just a trick of perception.\n"
     ]
    },
    {
     "data": {
      "image/png": "[encoded data removed]",
      "text/plain": [
       "<Figure size 640x480 with 1 Axes>"
      ]
     },
     "metadata": {},
     "output_type": "display_data"
    }
   ],
   "source": [
    "### run 1\n",
    "data, labels, parameters = C.Figure12.generate_datapoint()\n",
    "base64_image = X.Encode.encode_image(data)\n",
    "\n",
    "question = \"Which bar is longer?\"\n",
    "answer = X.Query.query(question, base64_image)\n",
    "print(answer)"
   ]
  },
  {
   "cell_type": "code",
   "execution_count": 9,
   "metadata": {},
   "outputs": [
    {
     "name": "stdout",
     "output_type": "stream",
     "text": [
      "The image you've provided shows two vertical yellow bars against a purple background, each topped with a smaller horizontal rectangle. These bars appear to be of identical length, creating a visual illusion that might make one seem longer than the other based on their positioning and the context within which they are seen. However, without exact measurements and based solely on the image, they appear to be the same length.\n"
     ]
    },
    {
     "data": {
      "image/png": "[encoded data removed]",
      "text/plain": [
       "<Figure size 640x480 with 1 Axes>"
      ]
     },
     "metadata": {},
     "output_type": "display_data"
    }
   ],
   "source": [
    "### run 2\n",
    "data, labels, parameters = C.Figure12.generate_datapoint()\n",
    "base64_image = X.Encode.encode_image(data)\n",
    "\n",
    "question = \"Which bar is longer?\"\n",
    "answer = X.Query.query(question, base64_image)\n",
    "print(answer)"
   ]
  },
  {
   "cell_type": "code",
   "execution_count": 10,
   "metadata": {},
   "outputs": [
    {
     "name": "stdout",
     "output_type": "stream",
     "text": [
      "The two vertical yellow bars in the image appear to be of the same length. It's a common optical illusion where the context and surrounding shapes can make two identical lengths seem different. This type of illusion exploits the human brain's use of context to determine the size of objects. However, without physically measuring, we rely on visual perception, and in this case, visual perception is subject to the illusion; nevertheless, the bars are the same length.\n"
     ]
    },
    {
     "data": {
      "image/png": "[encoded data removed]",
      "text/plain": [
       "<Figure size 640x480 with 1 Axes>"
      ]
     },
     "metadata": {},
     "output_type": "display_data"
    }
   ],
   "source": [
    "### run 3\n",
    "data, labels, parameters = C.Figure12.generate_datapoint()\n",
    "base64_image = X.Encode.encode_image(data)\n",
    "\n",
    "question = \"Which bar is longer?\"\n",
    "answer = X.Query.query(question, base64_image)\n",
    "print(answer)"
   ]
  },
  {
   "cell_type": "code",
   "execution_count": 11,
   "metadata": {},
   "outputs": [
    {
     "name": "stdout",
     "output_type": "stream",
     "text": [
      "The image shows two vertical yellow bars against a purple background. The bars appear to be of equal length. This kind of image is commonly associated with optical illusions where the context might influence the perception of length. However, without additional context or a point of reference in the image, they seem to be the same length based on visual inspection.\n"
     ]
    },
    {
     "data": {
      "image/png": "[encoded data removed]",
      "text/plain": [
       "<Figure size 640x480 with 1 Axes>"
      ]
     },
     "metadata": {},
     "output_type": "display_data"
    }
   ],
   "source": [
    "### run 4\n",
    "data, labels, parameters = C.Figure12.generate_datapoint()\n",
    "base64_image = X.Encode.encode_image(data)\n",
    "\n",
    "question = \"Which bar is longer?\"\n",
    "answer = X.Query.query(question, base64_image)\n",
    "print(answer)"
   ]
  },
  {
   "cell_type": "code",
   "execution_count": 12,
   "metadata": {},
   "outputs": [
    {
     "name": "stdout",
     "output_type": "stream",
     "text": [
      "The two yellow vertical bars in the image appear to be identical in length. The visual presentation may falsely suggest a difference in length due to other visual cues, but upon close inspection, the bars themselves without any trick or distortion should be of the same length. This is a common example of an optical illusion.\n"
     ]
    },
    {
     "data": {
      "image/png": "[encoded data removed]",
      "text/plain": [
       "<Figure size 640x480 with 1 Axes>"
      ]
     },
     "metadata": {},
     "output_type": "display_data"
    }
   ],
   "source": [
    "### run 5\n",
    "data, labels, parameters = C.Figure12.generate_datapoint()\n",
    "base64_image = X.Encode.encode_image(data)\n",
    "\n",
    "question = \"Which bar is longer?\"\n",
    "answer = X.Query.query(question, base64_image)\n",
    "print(answer)"
   ]
  },
  {
   "cell_type": "code",
   "execution_count": null,
   "metadata": {},
   "outputs": [],
   "source": []
  }
 ],
 "metadata": {
  "kernelspec": {
   "display_name": "Python 3",
   "language": "python",
   "name": "python3"
  },
  "language_info": {
   "codemirror_mode": {
    "name": "ipython",
    "version": 3
   },
   "file_extension": ".py",
   "mimetype": "text/x-python",
   "name": "python",
   "nbconvert_exporter": "python",
   "pygments_lexer": "ipython3",
   "version": "3.11.3"
  }
 },
 "nbformat": 4,
 "nbformat_minor": 2
}
