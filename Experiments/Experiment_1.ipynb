{
 "cells": [
  {
   "cell_type": "code",
   "execution_count": 4,
   "id": "f20768b4",
   "metadata": {},
   "outputs": [
    {
     "name": "stdout",
     "output_type": "stream",
     "text": [
      "%pylab is deprecated, use %matplotlib inline and import the required libraries.\n",
      "Populating the interactive namespace from numpy and matplotlib\n",
      "The autoreload extension is already loaded. To reload it, use:\n",
      "  %reload_ext autoreload\n"
     ]
    }
   ],
   "source": [
    "%pylab inline\n",
    "%load_ext autoreload\n",
    "%autoreload 2\n",
    "\n",
    "from jupyterthemes import jtplot\n",
    "jtplot.style()"
   ]
  },
  {
   "cell_type": "code",
   "execution_count": 5,
   "id": "1818d131",
   "metadata": {},
   "outputs": [],
   "source": [
    "import os, sys, time\n",
    "import pickle\n",
    "sys.path.append('../EXP/')\n",
    "import ClevelandMcGill as C\n",
    "import ChatGPT as X\n"
   ]
  },
  {
   "cell_type": "code",
   "execution_count": null,
   "id": "15b91fc1",
   "metadata": {},
   "outputs": [],
   "source": []
  },
  {
   "cell_type": "code",
   "execution_count": 6,
   "id": "bfc10a7c",
   "metadata": {},
   "outputs": [
    {
     "ename": "AttributeError",
     "evalue": "type object 'Encode' has no attribute 'encode_image'",
     "output_type": "error",
     "traceback": [
      "\u001b[0;31m---------------------------------------------------------------------------\u001b[0m",
      "\u001b[0;31mAttributeError\u001b[0m                            Traceback (most recent call last)",
      "Cell \u001b[0;32mIn[6], line 3\u001b[0m\n\u001b[1;32m      1\u001b[0m data, labels \u001b[38;5;241m=\u001b[39m  C\u001b[38;5;241m.\u001b[39mFigure3\u001b[38;5;241m.\u001b[39mgenerate_datapoint()\n\u001b[1;32m      2\u001b[0m bar_Image \u001b[38;5;241m=\u001b[39m C\u001b[38;5;241m.\u001b[39mFigure3\u001b[38;5;241m.\u001b[39mdata_to_barchart(data)\n\u001b[0;32m----> 3\u001b[0m base64_image \u001b[38;5;241m=\u001b[39m \u001b[43mX\u001b[49m\u001b[38;5;241;43m.\u001b[39;49m\u001b[43mEncode\u001b[49m\u001b[38;5;241;43m.\u001b[39;49m\u001b[43mencode_image\u001b[49m(bar_Image)\n\u001b[1;32m      5\u001b[0m imshow(bar_Image)\n\u001b[1;32m      7\u001b[0m question \u001b[38;5;241m=\u001b[39m \u001b[38;5;124m\"\u001b[39m\u001b[38;5;124mWhich bar is longer?\u001b[39m\u001b[38;5;124m\"\u001b[39m\n",
      "\u001b[0;31mAttributeError\u001b[0m: type object 'Encode' has no attribute 'encode_image'"
     ]
    }
   ],
   "source": [
    "data, labels =  C.Figure3.generate_datapoint()\n",
    "bar_Image = C.Figure3.data_to_barchart(data)\n",
    "base64_image = X.Encode.encode_image(bar_Image)\n",
    "\n",
    "imshow(bar_Image)\n",
    "\n",
    "question = \"Which bar is longer?\"\n",
    "answer = X.Query.query(question, base64_image)\n",
    "print(answer)"
   ]
  },
  {
   "cell_type": "code",
   "execution_count": 7,
   "id": "07bc35c5",
   "metadata": {},
   "outputs": [
    {
     "ename": "AttributeError",
     "evalue": "type object 'Encode' has no attribute 'encode_image'",
     "output_type": "error",
     "traceback": [
      "\u001b[0;31m---------------------------------------------------------------------------\u001b[0m",
      "\u001b[0;31mAttributeError\u001b[0m                            Traceback (most recent call last)",
      "Cell \u001b[0;32mIn[7], line 2\u001b[0m\n\u001b[1;32m      1\u001b[0m pie_Image \u001b[38;5;241m=\u001b[39m C\u001b[38;5;241m.\u001b[39mFigure3\u001b[38;5;241m.\u001b[39mdata_to_piechart(data)\n\u001b[0;32m----> 2\u001b[0m base64_image \u001b[38;5;241m=\u001b[39m \u001b[43mX\u001b[49m\u001b[38;5;241;43m.\u001b[39;49m\u001b[43mEncode\u001b[49m\u001b[38;5;241;43m.\u001b[39;49m\u001b[43mencode_image\u001b[49m(pie_Image)\n\u001b[1;32m      4\u001b[0m imshow(pie_Image)\n\u001b[1;32m      6\u001b[0m question \u001b[38;5;241m=\u001b[39m \u001b[38;5;124m\"\u001b[39m\u001b[38;5;124mWhich slice has a largger angle?\u001b[39m\u001b[38;5;124m\"\u001b[39m\n",
      "\u001b[0;31mAttributeError\u001b[0m: type object 'Encode' has no attribute 'encode_image'"
     ]
    }
   ],
   "source": [
    "pie_Image = C.Figure3.data_to_piechart(data)\n",
    "base64_image = X.Encode.encode_image(pie_Image)\n",
    "\n",
    "imshow(pie_Image)\n",
    "\n",
    "question = \"Which slice has a largger angle?\"\n",
    "answer = X.Query.query(question, base64_image)\n",
    "print(answer)"
   ]
  },
  {
   "cell_type": "code",
   "execution_count": null,
   "id": "5bfebfbd",
   "metadata": {},
   "outputs": [],
   "source": []
  }
 ],
 "metadata": {
  "kernelspec": {
   "display_name": "Python 3 (ipykernel)",
   "language": "python",
   "name": "python3"
  },
  "language_info": {
   "codemirror_mode": {
    "name": "ipython",
    "version": 3
   },
   "file_extension": ".py",
   "mimetype": "text/x-python",
   "name": "python",
   "nbconvert_exporter": "python",
   "pygments_lexer": "ipython3",
   "version": "3.10.13"
  }
 },
 "nbformat": 4,
 "nbformat_minor": 5
}
