{
 "cells": [
  {
   "cell_type": "code",
   "execution_count": 1,
   "id": "f20768b4",
   "metadata": {},
   "outputs": [
    {
     "name": "stdout",
     "output_type": "stream",
     "text": [
      "%pylab is deprecated, use %matplotlib inline and import the required libraries.\n",
      "Populating the interactive namespace from numpy and matplotlib\n"
     ]
    }
   ],
   "source": [
    "%pylab inline\n",
    "%load_ext autoreload\n",
    "%autoreload 2\n",
    "\n",
    "from jupyterthemes import jtplot\n",
    "jtplot.style()"
   ]
  },
  {
   "cell_type": "code",
   "execution_count": 12,
   "id": "1818d131",
   "metadata": {},
   "outputs": [],
   "source": [
    "import os, sys, time\n",
    "import pickle\n",
    "sys.path.append('../EXP/')\n",
    "import ClevelandMcGill as C\n",
    "import ChatGPT as X\n"
   ]
  },
  {
   "cell_type": "code",
   "execution_count": 11,
   "id": "15b91fc1",
   "metadata": {},
   "outputs": [],
   "source": []
  },
  {
   "cell_type": "code",
   "execution_count": 24,
   "id": "bfc10a7c",
   "metadata": {},
   "outputs": [
    {
     "name": "stdout",
     "output_type": "stream",
     "text": [
      "The image you've shared appears to be cropped or incomplete, and as a result, I can't see any bars to compare their lengths. If you could provide a full image or additional context, I would be glad to help you with your question.\n"
     ]
    },
    {
     "data": {
      "image/png": "[encoded data removed]",
      "text/plain": [
       "<Figure size 640x560 with 1 Axes>"
      ]
     },
     "metadata": {},
     "output_type": "display_data"
    }
   ],
   "source": [
    "data, labels =  C.Figure3.generate_datapoint()\n",
    "bar_Image = C.Figure3.data_to_barchart(data)\n",
    "base64_image = X.Encode.encode_image(bar_Image)\n",
    "\n",
    "imshow(bar_Image)\n",
    "\n",
    "question = \"Which bar is longer?\"\n",
    "answer = X.Query.query(question, base64_image)\n",
    "print(answer)"
   ]
  },
  {
   "cell_type": "code",
   "execution_count": 22,
   "id": "07bc35c5",
   "metadata": {},
   "outputs": [
    {
     "name": "stdout",
     "output_type": "stream",
     "text": [
      "The image you have provided shows an abstract figure with lines emanating from a central point, creating slices or sectors. However, the resolution is quite low, making it difficult to definitively determine the angles with precision. \n",
      "\n",
      "Based on visual estimation, it appears that the slice on the top left side of the image may have the largest angle compared to the others, but without clear and accurate measurements or higher-quality visuals, this assessment is subjective and may not be accurate. If precise angle measurements are needed, a tool like a protractor or angle-measuring software would be required.\n"
     ]
    },
    {
     "data": {
      "image/png": "[encoded data removed]",
      "text/plain": [
       "<Figure size 640x560 with 1 Axes>"
      ]
     },
     "metadata": {},
     "output_type": "display_data"
    }
   ],
   "source": [
    "pie_Image = C.Figure3.data_to_piechart(data)\n",
    "base64_image = X.Encode.encode_image(pie_Image)\n",
    "\n",
    "imshow(pie_Image)\n",
    "\n",
    "question = \"Which slice has a largger angle?\"\n",
    "answer = X.Query.query(question, base64_image)\n",
    "print(answer)"
   ]
  },
  {
   "cell_type": "code",
   "execution_count": null,
   "id": "5bfebfbd",
   "metadata": {},
   "outputs": [],
   "source": []
  }
 ],
 "metadata": {
  "kernelspec": {
   "display_name": "Python 3 (ipykernel)",
   "language": "python",
   "name": "python3"
  },
  "language_info": {
   "codemirror_mode": {
    "name": "ipython",
    "version": 3
   },
   "file_extension": ".py",
   "mimetype": "text/x-python",
   "name": "python",
   "nbconvert_exporter": "python",
   "pygments_lexer": "ipython3",
   "version": "3.10.13"
  }
 },
 "nbformat": 4,
 "nbformat_minor": 5
}
