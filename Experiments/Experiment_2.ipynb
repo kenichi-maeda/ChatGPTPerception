{
 "cells": [
  {
   "cell_type": "code",
   "execution_count": 1,
   "id": "12ff1f1e",
   "metadata": {},
   "outputs": [
    {
     "name": "stdout",
     "output_type": "stream",
     "text": [
      "%pylab is deprecated, use %matplotlib inline and import the required libraries.\n",
      "Populating the interactive namespace from numpy and matplotlib\n"
     ]
    }
   ],
   "source": [
    "%pylab inline\n",
    "%load_ext autoreload\n",
    "%autoreload 2\n",
    "\n",
    "from jupyterthemes import jtplot\n",
    "jtplot.style()"
   ]
  },
  {
   "cell_type": "code",
   "execution_count": 2,
   "id": "758350b5",
   "metadata": {},
   "outputs": [],
   "source": [
    "import os, sys, time\n",
    "import pickle\n",
    "sys.path.append('../EXP/')\n",
    "import ClevelandMcGill as C\n",
    "import ChatGPT as X\n"
   ]
  },
  {
   "cell_type": "markdown",
   "id": "a3a14890",
   "metadata": {},
   "source": [
    "Type 1"
   ]
  },
  {
   "cell_type": "code",
   "execution_count": 5,
   "id": "b11a3e7f",
   "metadata": {},
   "outputs": [
    {
     "name": "stdout",
     "output_type": "stream",
     "text": [
      "The image is not clear enough to precisely determine which bar is the longest since the top of the bars is cropped and not visible. If you provide an image with the full view of the bars, I'll be able to give a more accurate answer.\n"
     ]
    },
    {
     "data": {
      "image/png": "[encoded data removed]",
      "text/plain": [
       "<Figure size 640x560 with 1 Axes>"
      ]
     },
     "metadata": {},
     "output_type": "display_data"
    }
   ],
   "source": [
    "data, labels = C.Figure4.generate_datapoint()\n",
    "\n",
    "bar_image_type_1 = C.Figure4.data_to_type1(data)\n",
    "base64_image = X.Encode.encode_image(bar_image_type_1)\n",
    "\n",
    "imshow(bar_image_type_1)\n",
    "\n",
    "question = \"Which bar is longer?\"\n",
    "answer = X.Query.query(question, base64_image)\n",
    "print(answer)"
   ]
  },
  {
   "cell_type": "code",
   "execution_count": null,
   "id": "25cc32f0",
   "metadata": {},
   "outputs": [],
   "source": []
  },
  {
   "cell_type": "markdown",
   "id": "8b8dc034",
   "metadata": {},
   "source": [
    "Type 2"
   ]
  },
  {
   "cell_type": "code",
   "execution_count": 9,
   "id": "7644cab8",
   "metadata": {},
   "outputs": [
    {
     "name": "stdout",
     "output_type": "stream",
     "text": [
      "The image appears to show two bars made up of stacked segments. However, without a proper scale or additional context, it's impossible for me to accurately determine which bar is longer. The image might be an optical illusion designed to challenge the viewer's perceptions of length and space. If the segments are intended to be of equal size and the picture is not distorted, the bars would be of equal length, but this depends on the actual dimensions of the segments and the spaces between them. If the image is intended for an optical illusion, both bars could visually appear to be different lengths due to the arrangement and spacing of their segments, even if they are actually the same length.\n"
     ]
    },
    {
     "data": {
      "image/png": "[encoded data removed]",
      "text/plain": [
       "<Figure size 640x560 with 1 Axes>"
      ]
     },
     "metadata": {},
     "output_type": "display_data"
    }
   ],
   "source": [
    "\n",
    "bar_image_type_2 = C.Figure4.data_to_type2(data)\n",
    "base64_image_type_2 = X.Encode.encode_image(bar_image_type_2)\n",
    "\n",
    "imshow(bar_image_type_2)\n",
    "\n",
    "question = \"Which bar is longer?\"\n",
    "answer = X.Query.query(question, base64_image_type_2)\n",
    "print(answer)"
   ]
  },
  {
   "cell_type": "code",
   "execution_count": null,
   "id": "2c7602f9",
   "metadata": {},
   "outputs": [],
   "source": []
  },
  {
   "cell_type": "markdown",
   "id": "bd0aec35",
   "metadata": {},
   "source": [
    "Type 3"
   ]
  },
  {
   "cell_type": "code",
   "execution_count": 11,
   "id": "f1ec27b5",
   "metadata": {},
   "outputs": [
    {
     "name": "stdout",
     "output_type": "stream",
     "text": [
      "I'm sorry, but I am unable to see any images or provide visual analysis. If you can describe the bars or give me more information, I could possibly help you figure it out mathematically or logically. Otherwise, I'm unable to determine which bar is longer without seeing the image.\n"
     ]
    },
    {
     "data": {
      "image/png": "[encoded data removed]",
      "text/plain": [
       "<Figure size 640x560 with 1 Axes>"
      ]
     },
     "metadata": {},
     "output_type": "display_data"
    }
   ],
   "source": [
    "bar_image_type_3 = C.Figure4.data_to_type3(data)\n",
    "base64_image_type_3 = X.Encode.encode_image(bar_image_type_3)\n",
    "\n",
    "imshow(bar_image_type_3)\n",
    "\n",
    "question = \"Which bar is longer?\"\n",
    "answer = X.Query.query(question, base64_image_type_3)\n",
    "print(answer)"
   ]
  },
  {
   "cell_type": "markdown",
   "id": "9c51904e",
   "metadata": {},
   "source": [
    "Type 4"
   ]
  },
  {
   "cell_type": "code",
   "execution_count": 14,
   "id": "b2a66180",
   "metadata": {},
   "outputs": [
    {
     "name": "stdout",
     "output_type": "stream",
     "text": [
      "The image appears to show two vertical bars with horizontal lines creating sections within them, making it seem like a comparison of their lengths is being asked. However, without a scale or additional context, it's impossible to accurately determine if one bar is longer than the other just by looking at this image.\n",
      "\n",
      "If this is an optical illusion, it's meant to trick the eye into perceiving one bar as longer when in fact they might be the same length. If precision is required, using a ruler or measuring tool would provide a definitive answer. If you are asking about a known optical illusion and the bars are indeed identical in length, then the correct answer would be that neither bar is longer—they only appear to be different due to the design of the illusion.\n"
     ]
    },
    {
     "data": {
      "image/png": "[encoded data removed]",
      "text/plain": [
       "<Figure size 640x560 with 1 Axes>"
      ]
     },
     "metadata": {},
     "output_type": "display_data"
    }
   ],
   "source": [
    "bar_image_type_4 = C.Figure4.data_to_type4(data)\n",
    "base64_image_type_4 = X.Encode.encode_image(bar_image_type_4)\n",
    "\n",
    "imshow(bar_image_type_4)\n",
    "\n",
    "question = \"Which bar is longer?\"\n",
    "answer = X.Query.query(question, base64_image_type_4)\n",
    "print(answer)"
   ]
  },
  {
   "cell_type": "markdown",
   "id": "278681b0",
   "metadata": {},
   "source": [
    "Type 5"
   ]
  },
  {
   "cell_type": "code",
   "execution_count": 16,
   "id": "ebe04af5",
   "metadata": {},
   "outputs": [
    {
     "name": "stdout",
     "output_type": "stream",
     "text": [
      "The image appears to be an optical illusion where two bars of equal length may look different in size due to the context provided by the lines or patterns surrounding them. Without measurements, it's difficult to tell for certain, but based on common optical illusions, it's possible that both bars are actually the same length.\n"
     ]
    },
    {
     "data": {
      "image/png": "[encoded data removed]",
      "text/plain": [
       "<Figure size 640x560 with 1 Axes>"
      ]
     },
     "metadata": {},
     "output_type": "display_data"
    }
   ],
   "source": [
    "bar_image_type_5 = C.Figure4.data_to_type5(data)\n",
    "base64_image_type_5 = X.Encode.encode_image(bar_image_type_5)\n",
    "\n",
    "imshow(bar_image_type_5)\n",
    "\n",
    "question = \"Which bar is longer?\"\n",
    "answer = X.Query.query(question, base64_image_type_5)\n",
    "print(answer)"
   ]
  },
  {
   "cell_type": "code",
   "execution_count": null,
   "id": "604e9dec",
   "metadata": {},
   "outputs": [],
   "source": []
  }
 ],
 "metadata": {
  "kernelspec": {
   "display_name": "Python 3 (ipykernel)",
   "language": "python",
   "name": "python3"
  },
  "language_info": {
   "codemirror_mode": {
    "name": "ipython",
    "version": 3
   },
   "file_extension": ".py",
   "mimetype": "text/x-python",
   "name": "python",
   "nbconvert_exporter": "python",
   "pygments_lexer": "ipython3",
   "version": "3.10.13"
  }
 },
 "nbformat": 4,
 "nbformat_minor": 5
}
