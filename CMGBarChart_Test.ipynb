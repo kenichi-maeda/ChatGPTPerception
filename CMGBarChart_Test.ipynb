{
 "cells": [
  {
   "cell_type": "code",
   "execution_count": 1,
   "metadata": {},
   "outputs": [],
   "source": [
    "import base64\n",
    "import requests\n",
    "import os\n",
    "from CMGBarChartGenerator import GenerateCMGBarChart"
   ]
  },
  {
   "cell_type": "code",
   "execution_count": 2,
   "metadata": {},
   "outputs": [],
   "source": [
    "# Generate Charts\n",
    "GenerateCMGBarChart(10)"
   ]
  },
  {
   "cell_type": "code",
   "execution_count": 3,
   "metadata": {},
   "outputs": [],
   "source": [
    "# OpenAI API Key\n",
    "api_key = \"*********************************\""
   ]
  },
  {
   "cell_type": "code",
   "execution_count": 4,
   "metadata": {},
   "outputs": [],
   "source": [
    "frame_result = []    # Result given by ChatGPT (frame)\n",
    "no_frame_result = [] # Result given by ChatGPT (no frame)\n",
    "correct = []         # Correct result given by ground_truth.txt"
   ]
  },
  {
   "cell_type": "code",
   "execution_count": 5,
   "metadata": {},
   "outputs": [],
   "source": [
    "frame_average_scores = []    # Store average scores (5 trials)\n",
    "no_frame_average_scores = [] # Store average scores (5 trials)"
   ]
  },
  {
   "cell_type": "code",
   "execution_count": 6,
   "metadata": {},
   "outputs": [],
   "source": [
    "# Fill in \"correct\" array\n",
    "with open('dataset\\\\barchart_CMG\\\\ground_truth.txt', 'r') as file:\n",
    "    for line in file:\n",
    "        numbers = list(map(float, line.split()))\n",
    "\n",
    "        max_index = numbers.index(max(numbers))\n",
    "        correct.append(max_index)"
   ]
  },
  {
   "cell_type": "code",
   "execution_count": 7,
   "metadata": {},
   "outputs": [],
   "source": [
    "# Get images\n",
    "\n",
    "def get_image_path(folder_path):\n",
    "  return [os.path.join(folder_path, file) for file in os.listdir(folder_path) if file.endswith('.png')]\n",
    "\n",
    "folder_path = \"dataset\"\n",
    "image_paths = get_image_path(folder_path)"
   ]
  },
  {
   "cell_type": "code",
   "execution_count": 8,
   "metadata": {},
   "outputs": [],
   "source": [
    "# Function to encode the image\n",
    "def encode_image(image_path):\n",
    "  with open(image_path, \"rb\") as image_file:\n",
    "    return base64.b64encode(image_file.read()).decode('utf-8')"
   ]
  },
  {
   "cell_type": "code",
   "execution_count": null,
   "metadata": {},
   "outputs": [],
   "source": [
    "for i in range(5):\n",
    "    frame_result = []\n",
    "    no_frame_result = []\n",
    "    count = 0\n",
    "\n",
    "    # Call the api with the images\n",
    "    for image_path in image_paths:\n",
    "        count += 1\n",
    "        # Getting the base64 string\n",
    "        base64_image = encode_image(image_path)\n",
    "        \n",
    "        headers = {\n",
    "        \"Content-Type\": \"application/json\",\n",
    "        \"Authorization\": f\"Bearer {api_key}\"\n",
    "        }\n",
    "\n",
    "        payload = {\n",
    "        \"model\": \"gpt-4-vision-preview\",\n",
    "        \"messages\": [\n",
    "            {\n",
    "            \"role\": \"user\",\n",
    "            \"content\": [\n",
    "                {\n",
    "                \"type\": \"text\",\n",
    "                \"text\": \"Which bar is longer? The left bar has the ID 0 and the right bar has the ID 1. Give me the ID of the longest bar. I don't need any sentence. JUST GIVE ME 0 or 1. For framed rectangles, just look at the length of bars inside.\"\n",
    "                },\n",
    "                {\n",
    "                \"type\": \"image_url\",\n",
    "                \"image_url\": {\n",
    "                    \"url\": f\"data:image/jpeg;base64,{base64_image}\"\n",
    "                }\n",
    "                }\n",
    "            ]\n",
    "            }\n",
    "        ],\n",
    "        \"max_tokens\": 300\n",
    "        }\n",
    "\n",
    "        response = requests.post(\"https://api.openai.com/v1/chat/completions\", headers=headers, json=payload)\n",
    "\n",
    "        content_string = response.json()['choices'][0]['message']['content']\n",
    "\n",
    "       \n",
    "        if count <= 10:\n",
    "            # frame\n",
    "            if (content_string==\"0\" or content_string==\"1\"):\n",
    "                frame_result.append(int(content_string))\n",
    "            else:\n",
    "                frame_result.append(None)\n",
    "        else:\n",
    "            # no frame\n",
    "            if (content_string==\"0\" or content_string==\"1\"):\n",
    "                no_frame_result.append(int(content_string))\n",
    "            else:\n",
    "                no_frame_result.append(None)\n",
    "\n",
    "    #print(\"Attempt \" + str(i+1))\n",
    "    #print(\"Correct: \" + str(correct) + str(correct))\n",
    "    #print(\"ChatGPT: \" + str(frame_result) + str(no_frame_result) )\n",
    "    #print()\n",
    "    \n",
    "    frame_correct_answers = sum([correct[i] == frame_result[i] for i in range(len(correct))])\n",
    "    no_frame_correct_answers = sum([correct[i] == no_frame_result[i] for i in range(len(correct))])\n",
    "\n",
    "    total_questions = len(correct)\n",
    "    frame_correct_percentage = (frame_correct_answers / total_questions) * 100\n",
    "    no_frame_correct_percentage = (no_frame_correct_answers / total_questions) * 100\n",
    "\n",
    "    frame_average_scores.append(frame_correct_percentage)\n",
    "    no_frame_average_scores.append(no_frame_correct_percentage)"
   ]
  },
  {
   "cell_type": "code",
   "execution_count": null,
   "metadata": {},
   "outputs": [],
   "source": [
    "# Show score for both cases (i.e. frame and no frame)\n",
    "frame_average_score = sum(frame_average_scores)/len(frame_average_scores)\n",
    "print(\"Average percentage (frame): \" + str(frame_average_score) + \"%\")\n",
    "\n",
    "no_frame_average_score = sum(no_frame_average_scores)/len(no_frame_average_scores)\n",
    "print(\"Average percentage (No frame): \" + str(no_frame_average_score) + \"%\")"
   ]
  }
 ],
 "metadata": {
  "kernelspec": {
   "display_name": "Python 3",
   "language": "python",
   "name": "python3"
  },
  "language_info": {
   "codemirror_mode": {
    "name": "ipython",
    "version": 3
   },
   "file_extension": ".py",
   "mimetype": "text/x-python",
   "name": "python",
   "nbconvert_exporter": "python",
   "pygments_lexer": "ipython3",
   "version": "3.11.3"
  }
 },
 "nbformat": 4,
 "nbformat_minor": 2
}
