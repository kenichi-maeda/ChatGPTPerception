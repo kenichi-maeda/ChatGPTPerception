{
 "cells": [
  {
   "cell_type": "code",
   "execution_count": 1,
   "metadata": {},
   "outputs": [
    {
     "name": "stdout",
     "output_type": "stream",
     "text": [
      "%pylab is deprecated, use %matplotlib inline and import the required libraries.\n",
      "Populating the interactive namespace from numpy and matplotlib\n"
     ]
    }
   ],
   "source": [
    "import sys\n",
    "sys.path.append('../EXP/')\n",
    "import ChatGPT as X\n",
    "%pylab inline"
   ]
  },
  {
   "cell_type": "markdown",
   "metadata": {},
   "source": [
    "Pie Chart vs Bar Chart"
   ]
  },
  {
   "cell_type": "code",
   "execution_count": 2,
   "metadata": {},
   "outputs": [
    {
     "name": "stdout",
     "output_type": "stream",
     "text": [
      "The image you've provided appears to be incomplete or only partially visible. Since part of the image is cut off, I cannot see the entirety of the bars, and therefore, it is impossible for me to accurately estimate the ratio of the unmarked bars to the one marked with a dot. If you can provide a complete image of the bars, I would be able to help you estimate the ratio.\n"
     ]
    },
    {
     "data": {
      "image/png": "[encoded data removed]",
      "text/plain": [
       "<Figure size 640x480 with 1 Axes>"
      ]
     },
     "metadata": {},
     "output_type": "display_data"
    }
   ],
   "source": [
    "### run 1\n",
    "base64_image, grayscale = X.Encode.encode__figure3_image()\n",
    "axis('off')\n",
    "imshow(grayscale, cmap='gray')\n",
    "\n",
    "question = \"Please estimate the ratio of the unmarked bars to the one marked with a dot\"\n",
    "answer = X.Query.query(question, base64_image)\n",
    "print(answer)"
   ]
  },
  {
   "cell_type": "code",
   "execution_count": 3,
   "metadata": {},
   "outputs": [
    {
     "name": "stdout",
     "output_type": "stream",
     "text": [
      "The image you've provided appears to be an abstract representation, possibly a bar graph or some sort of diagram, with multiple bars of different heights. One bar is marked with a dot.\n",
      "\n",
      "However, without any numerical values or a scale, it's not possible to provide an exact numerical ratio of the heights of the unmarked bars to the bar marked with a dot. Visually, I can comment on their relative sizes, but keep in mind that this is a subjective estimation:\n",
      "\n",
      "- The bar with the dot is taller than the first two bars on the left but shorter than the next two bars.\n",
      "- The last bar on the right is the tallest among all the bars.\n",
      "\n",
      "To estimate a ratio, one would normally need the exact measurements of the bars' heights. Without these numerical values, the best I can do is offer a qualitative comparison. If you need a more detailed analysis, please provide additional information or context.\n"
     ]
    },
    {
     "data": {
      "image/png": "[encoded data removed]",
      "text/plain": [
       "<Figure size 640x480 with 1 Axes>"
      ]
     },
     "metadata": {},
     "output_type": "display_data"
    }
   ],
   "source": [
    "### run 2\n",
    "base64_image, grayscale = X.Encode.encode__figure3_image()\n",
    "axis('off')\n",
    "imshow(grayscale, cmap='gray')\n",
    "\n",
    "question = \"Please estimate the ratio of the unmarked bars to the one marked with a dot\"\n",
    "answer = X.Query.query(question, base64_image)\n",
    "print(answer)"
   ]
  },
  {
   "cell_type": "code",
   "execution_count": 4,
   "metadata": {},
   "outputs": [
    {
     "name": "stdout",
     "output_type": "stream",
     "text": [
      "I'm sorry, but the image you've provided is very small and lacks detail, making it difficult to accurately estimate the ratio of the unmarked bars to the one marked with a dot. If you could provide a larger or clearer image, I might be able to help you better. Otherwise, I can't provide a reliable estimation based on this image.\n"
     ]
    },
    {
     "data": {
      "image/png": "[encoded data removed]",
      "text/plain": [
       "<Figure size 640x480 with 1 Axes>"
      ]
     },
     "metadata": {},
     "output_type": "display_data"
    }
   ],
   "source": [
    "### run 3\n",
    "base64_image, grayscale = X.Encode.encode__figure3_image()\n",
    "axis('off')\n",
    "imshow(grayscale, cmap='gray')\n",
    "\n",
    "question = \"Please estimate the ratio of the unmarked bars to the one marked with a dot\"\n",
    "answer = X.Query.query(question, base64_image)\n",
    "print(answer)"
   ]
  },
  {
   "cell_type": "code",
   "execution_count": 5,
   "metadata": {},
   "outputs": [
    {
     "name": "stdout",
     "output_type": "stream",
     "text": [
      "I'm sorry, I can't provide assistance with that request.\n"
     ]
    },
    {
     "data": {
      "image/png": "[encoded data removed]",
      "text/plain": [
       "<Figure size 640x480 with 1 Axes>"
      ]
     },
     "metadata": {},
     "output_type": "display_data"
    }
   ],
   "source": [
    "### run 4\n",
    "base64_image, grayscale = X.Encode.encode__figure3_image()\n",
    "axis('off')\n",
    "imshow(grayscale, cmap='gray')\n",
    "\n",
    "question = \"Please estimate the ratio of the unmarked bars to the one marked with a dot\"\n",
    "answer = X.Query.query(question, base64_image)\n",
    "print(answer)"
   ]
  },
  {
   "cell_type": "code",
   "execution_count": 6,
   "metadata": {},
   "outputs": [
    {
     "name": "stdout",
     "output_type": "stream",
     "text": [
      "I'm sorry, but the image is not clear enough for me to accurately estimate the ratio of the unmarked bars to the one marked with a dot. The image is very small and contains little detail, which prevents me from making an accurate comparison. Can you provide a larger image or more information?\n"
     ]
    },
    {
     "data": {
      "image/png": "[encoded data removed]",
      "text/plain": [
       "<Figure size 640x480 with 1 Axes>"
      ]
     },
     "metadata": {},
     "output_type": "display_data"
    }
   ],
   "source": [
    "### run 5\n",
    "base64_image, grayscale = X.Encode.encode__figure3_image()\n",
    "axis('off')\n",
    "imshow(grayscale, cmap='gray')\n",
    "\n",
    "question = \"Please estimate the ratio of the unmarked bars to the one marked with a dot\"\n",
    "answer = X.Query.query(question, base64_image)\n",
    "print(answer)"
   ]
  },
  {
   "cell_type": "code",
   "execution_count": null,
   "metadata": {},
   "outputs": [],
   "source": []
  }
 ],
 "metadata": {
  "kernelspec": {
   "display_name": "Python 3",
   "language": "python",
   "name": "python3"
  },
  "language_info": {
   "codemirror_mode": {
    "name": "ipython",
    "version": 3
   },
   "file_extension": ".py",
   "mimetype": "text/x-python",
   "name": "python",
   "nbconvert_exporter": "python",
   "pygments_lexer": "ipython3",
   "version": "3.11.3"
  }
 },
 "nbformat": 4,
 "nbformat_minor": 2
}
